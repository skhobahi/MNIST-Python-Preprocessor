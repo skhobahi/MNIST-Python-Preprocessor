{
 "cells": [
  {
   "cell_type": "code",
   "execution_count": 1,
   "metadata": {
    "collapsed": true
   },
   "outputs": [],
   "source": [
    "import numpy as np\n",
    "import struct\n",
    "import matplotlib.pyplot as plt\n",
    "import matplotlib.cm as cm\n",
    "%matplotlib inline"
   ]
  },
  {
   "cell_type": "code",
   "execution_count": 2,
   "metadata": {
    "collapsed": true
   },
   "outputs": [],
   "source": [
    "def mnist_read():\n",
    "    with open('./train-labels-idx1-ubyte', 'rb') as binary_file: #processing training labels\n",
    "        binary_file.seek(0)  # Go to beginning\n",
    "        #Reading first 4 bytes to extract the magic number\n",
    "        magic_number = binary_file.read(4)\n",
    "        #unpacking couple_bytes as a 4byte signed integer with Big-endian Byte order\n",
    "        train_magic_number = struct.unpack('>i',magic_number) \n",
    "        #print(magic_number)\n",
    "        #unpacking next 4 bytes to extract the number of items\n",
    "        nitems = binary_file.read(4)\n",
    "        nitems = struct.unpack('>i',nitems)\n",
    "        #print(nitems)\n",
    "        # Next, we use np.fromfile to create an array from data in a binary file(var)\n",
    "        train_labels = np.fromfile(binary_file, np.uint8) #labels are an unsigned byte --> np.uint8 \n",
    "        # More info: https://docs.scipy.org/doc/numpy-1.13.0/reference/generated/numpy.fromfile.html\n",
    "        #print (train_labels)\n",
    "    with open('./train-images-idx3-ubyte', 'rb') as binary_file: #processing training images\n",
    "        # reading the first 16 bytes: \n",
    "        # 4bytes: magic_number | 4bytes: # of images | 4bites: # of rows | 4bytes: # of cols\n",
    "        data = binary_file.read(16) \n",
    "        magic_number, ntrimages, rows, cols = struct.unpack('>iiii', data)\n",
    "        #print (magic_number, ntrimages, rows, cols)\n",
    "        # extracting images and storing them into a numpy array (note that each image is stored as a vector, so we need to reshape it in the matrix form)\n",
    "        train_images = np.fromfile(binary_file, np.uint8).reshape(ntrimages, rows, cols)\n",
    "    with open('./t10k-labels-idx1-ubyte', 'rb') as binary_file:\n",
    "        data = binary_file.read(8)\n",
    "        magic_number, ntelabels = struct.unpack('>ii',data)\n",
    "        #print (magic_number, ntelabels)\n",
    "        test_labels = np.fromfile(binary_file, np.uint8) #reading the labels\n",
    "    with open('./t10k-images-idx3-ubyte', 'rb') as binary_file:\n",
    "        data = binary_file.read(16)\n",
    "        magic_number, nteimages, rows, cols = struct.unpack('>iiii', data)\n",
    "        #print (magic_number, nteimages, rows, cols)\n",
    "        test_images = np.fromfile(binary_file, np.uint8).reshape(nteimages, rows, cols)\n",
    "    return train_images, train_labels, ntrimages, test_images, test_labels, nteimages"
   ]
  },
  {
   "cell_type": "code",
   "execution_count": 3,
   "metadata": {
    "collapsed": true
   },
   "outputs": [],
   "source": [
    "train_images, train_labels, ntrimages, test_images, test_labels, nteimages = mnist_read()"
   ]
  },
  {
   "cell_type": "code",
   "execution_count": 4,
   "metadata": {},
   "outputs": [
    {
     "data": {
      "image/png": "[encoded data removed]",
      "text/plain": [
       "<matplotlib.figure.Figure at 0x26afe8f0e80>"
      ]
     },
     "metadata": {},
     "output_type": "display_data"
    }
   ],
   "source": [
    "plt.imshow(train_images[2], cmap=cm.Greys)\n",
    "plt.title(train_labels[2])\n",
    "plt.grid()"
   ]
  },
  {
   "cell_type": "code",
   "execution_count": null,
   "metadata": {
    "collapsed": true
   },
   "outputs": [],
   "source": []
  }
 ],
 "metadata": {
  "kernelspec": {
   "display_name": "Python 3",
   "language": "python",
   "name": "python3"
  },
  "language_info": {
   "codemirror_mode": {
    "name": "ipython",
    "version": 3
   },
   "file_extension": ".py",
   "mimetype": "text/x-python",
   "name": "python",
   "nbconvert_exporter": "python",
   "pygments_lexer": "ipython3",
   "version": "3.6.1"
  }
 },
 "nbformat": 4,
 "nbformat_minor": 2
}
